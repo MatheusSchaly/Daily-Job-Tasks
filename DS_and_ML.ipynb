{
 "cells": [
  {
   "attachments": {},
   "cell_type": "markdown",
   "metadata": {},
   "source": [
    "## Configs"
   ]
  },
  {
   "cell_type": "code",
   "execution_count": null,
   "metadata": {},
   "outputs": [],
   "source": [
    "import random\n",
    "\n",
    "import pandas as pd\n",
    "import numpy as np\n",
    "\n",
    "pd.set_option('display.max_columns', 15)\n",
    "pd.set_option('display.max_rows', 30)\n",
    "pd.set_option('display.max_colwidth', None)\n",
    "pd.set_option(\"display.float_format\", lambda x: \"%.3f\" % x)\n",
    "\n",
    "pd.options.plotting.backend = \"plotly\"\n",
    "pd.options.plotting.backend = \"matplotlib\"\n",
    "\n",
    "random_seed = 42\n",
    "random.seed(random_seed)\n",
    "np.random.seed(random_seed)\n",
    "\n",
    "%matplotlib inline\n",
    "%load_ext autoreload\n",
    "%autoreload 2"
   ]
  },
  {
   "attachments": {},
   "cell_type": "markdown",
   "metadata": {},
   "source": [
    "## Dataframe"
   ]
  },
  {
   "cell_type": "code",
   "execution_count": 2,
   "metadata": {},
   "outputs": [],
   "source": [
    "\n",
    "import pandas as pd\n",
    "\n",
    "dfs_to_concat = []\n",
    "\n",
    "df = (\n",
    "    pd.read_csv(\n",
    "        \"file_name.csv\",\n",
    "        header=\"infer\",\n",
    "        sep=\";\",\n",
    "        encoding=\"None\",\n",
    "        on_bad_lines=\"skip\",\n",
    "        usecols=[\"col_1\", \"col_2\"],\n",
    "        thousands=None,\n",
    "        decimal=\".\"\n",
    "    )\n",
    "    .head()\n",
    "    .iloc[:-3, :-1]\n",
    "    .query(\"date < 20200101\")\n",
    "    .query(\"name == 'cel_name'\")\n",
    "    .query(\"`name with space` == 'cel_name'\")\n",
    "    .query(\"name == @my_variable\")\n",
    "    .query(\"col.str.contains('cel_name', case=True)\")\n",
    "    .reset_index(drop=False)\n",
    "    .set_index([\"index_1_col\", \"index_2_col\"])\n",
    "    .melt(id_vars=[\"col_1\"])\n",
    "    .pivot_table(index=\"col_1\", columns=\"col_2\", values=\"col_3\", aggfunc=np.sum, fill_value=0)\n",
    "    .explode(\"col\")\n",
    "    .value_counts(ascending=False, normalize=False)\n",
    "    .to_frame()\n",
    "    .droplevel(0, axis=1)\n",
    "    .unstack()\n",
    "    .sort_index()\n",
    "    .assign(date = lambda df: pd.to_datetime(df[\"date\"], format=\"%d/%m/%Y\", errors=\"coerce\" ))\n",
    "    .assign(new_col = lambda df: df[\"col\"].apply(\n",
    "        lambda row: len(row))\n",
    "    )\n",
    "    .sort_values([\"date\"])\n",
    "    .join(df, how=\"outer\")\n",
    "    .resample(\"1D\")\n",
    "    .groupby(pd.Grouper(key=\"date\", freq=\"1W\"))\n",
    "    .mean()\n",
    "    .ffill()\n",
    "    .fillna(0)\n",
    "    .add_prefix(\"my_prefix_\")\n",
    "    .rename(\n",
    "        columns={\n",
    "            \"old_name\": \"new_name\",\n",
    "        }\n",
    "    )\n",
    "    .drop(\n",
    "        [\n",
    "            \"col_to_drop\",\n",
    "        ],\n",
    "        axis=1\n",
    "    )\n",
    "    .drop_duplicates()\n",
    "    .astype(int)\n",
    "    [[\"col_1\", \"col_3\"]]\n",
    "    .tail()\n",
    ")\n",
    "\n",
    "dfs_to_concat.append(df_to_concat)\n",
    "\n",
    "dfs_concatenated = pd.concat(dfs_to_concat, axis=0, ignore_index=True)"
   ]
  },
  {
   "attachments": {},
   "cell_type": "markdown",
   "metadata": {},
   "source": [
    "## Plot"
   ]
  },
  {
   "cell_type": "code",
   "execution_count": null,
   "metadata": {},
   "outputs": [],
   "source": [
    "import plotly.graph_objs as go\n",
    "\n",
    "fig = go.Figure()\n",
    "\n",
    "# https://plotly.com/python/reference/scatter/\n",
    "fig.add_trace(go.Scatter(\n",
    "    x=df[\"date_col\"],\n",
    "    y=df[\"another_col_1\"],\n",
    "    name=\"Line Name\",\n",
    "    line={\n",
    "        \"width\": 5,\n",
    "        \"dash\": \"dash\",\n",
    "        \"color\": \"black\"\n",
    "    }\n",
    "))\n",
    "\n",
    "fig.add_trace(go.Scatter(\n",
    "    x=df[\"date_col\"],\n",
    "    y=df[\"another_col_2\"],\n",
    "    name=\"Line Name\",\n",
    "    line={\n",
    "        \"width\": 5,\n",
    "        \"dash\": \"dot\",\n",
    "        \"color\": \"green\"\n",
    "    }\n",
    "))\n",
    "\n",
    "# https://plotly.com/python/reference/layout/\n",
    "fig.update_layout({\n",
    "    \"title\": {\n",
    "        \"text\": f\"Title\",\n",
    "        \"font\": {\n",
    "            \"size\": 25\n",
    "        },\n",
    "        \"x\": 0.5\n",
    "    },\n",
    "    \"font\": {\n",
    "        \"size\": 20\n",
    "    },\n",
    "    \"height\": 600\n",
    "})\n",
    "\n",
    "fig.show()"
   ]
  }
 ],
 "metadata": {
  "kernelspec": {
   "display_name": "base",
   "language": "python",
   "name": "python3"
  },
  "language_info": {
   "codemirror_mode": {
    "name": "ipython",
    "version": 3
   },
   "file_extension": ".py",
   "mimetype": "text/x-python",
   "name": "python",
   "nbconvert_exporter": "python",
   "pygments_lexer": "ipython3",
   "version": "3.8.11"
  },
  "orig_nbformat": 4,
  "vscode": {
   "interpreter": {
    "hash": "d674aba619e9128d5d95f68874c090de0e48b8e67c1ba838c5d294b8a6cf0663"
   }
  }
 },
 "nbformat": 4,
 "nbformat_minor": 2
}
